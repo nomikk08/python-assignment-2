{
 "cells": [
  {
   "cell_type": "code",
   "execution_count": 4,
   "metadata": {},
   "outputs": [
    {
     "name": "stdout",
     "output_type": "stream",
     "text": [
      "write any number 75949357\n",
      "75949357  is an odd number\n"
     ]
    }
   ],
   "source": [
    "# A program which take input from user and identify that the given number is even or odd\n",
    "num = int (input(\"write any number \"))\n",
    "if num % 2 == 0:\n",
    "    print (num,\" is an even number\")\n",
    "else: \n",
    "    print (num , \" is an odd number\")"
   ]
  },
  {
   "cell_type": "code",
   "execution_count": 11,
   "metadata": {},
   "outputs": [
    {
     "name": "stdout",
     "output_type": "stream",
     "text": [
      "write the marks of 5 subjects out of 100\n",
      "English = 78\n",
      "Maths = 78\n",
      "Physics = 68\n",
      "Pakistan Studies = 65\n",
      "Urdu = 78\n",
      "73.4\n",
      "Your grade is A \n"
     ]
    }
   ],
   "source": [
    "# A program which takes 5 inputs from user for different subject’s marks, total it and generate mark sheet using grade\n",
    "print (\"write the marks of 5 subjects out of 100\")\n",
    "sub1 = int (input(\"English = \"))\n",
    "sub2 = int (input(\"Maths = \"))\n",
    "sub3 = int (input(\"Physics = \"))\n",
    "sub4 = int (input(\"Pakistan Studies = \"))\n",
    "sub5 = int (input(\"Urdu = \"))\n",
    "per = (sub1 + sub2 + sub3 + sub4 + sub5)/500 * 100\n",
    "print (per)\n",
    "if per <= 100 and per >=80 :\n",
    "   print (\"Your grade is A+ \")\n",
    "elif per < 80 and per >= 70 :\n",
    "     print (\"Your grade is A \")\n",
    "elif per < 70 and per >=60 :\n",
    "     print (\"Your grade is B \")\n",
    "elif per < 60 and per >=50 :\n",
    "     print (\"Your grade is C \")\n",
    "elif per < 50 and per >=40 :\n",
    "     print (\"Your grade is D \")\n",
    "else:\n",
    "     print (\"FAIL\")"
   ]
  },
  {
   "cell_type": "code",
   "execution_count": 12,
   "metadata": {},
   "outputs": [
    {
     "name": "stdout",
     "output_type": "stream",
     "text": [
      "4\n"
     ]
    }
   ],
   "source": [
    "# A program which print the length of the list\n",
    "list1 = [\"maths\",True,45,0.786,]\n",
    "print (len(list1))"
   ]
  },
  {
   "cell_type": "code",
   "execution_count": 20,
   "metadata": {},
   "outputs": [
    {
     "name": "stdout",
     "output_type": "stream",
     "text": [
      "the sum of elements in the list is  398\n"
     ]
    }
   ],
   "source": [
    "# A Python program to sum all the numeric items in a lis\n",
    "total = 0\n",
    "list1 = [45,67,54,89,53,90]\n",
    "for ele in range (0 , len(list1)):\n",
    "    total = total + list1[ele]\n",
    "print (\"the sum of elements in the list is \", total)"
   ]
  },
  {
   "cell_type": "code",
   "execution_count": 22,
   "metadata": {},
   "outputs": [
    {
     "name": "stdout",
     "output_type": "stream",
     "text": [
      "the largest number is  90\n"
     ]
    }
   ],
   "source": [
    "# A  Python program to get the largest number from a numeric list. \n",
    "list1 = [45,67,54,89,53,90]\n",
    "list1.sort()\n",
    "print (\"the largest number is \", list1[-1])"
   ]
  },
  {
   "cell_type": "code",
   "execution_count": 27,
   "metadata": {},
   "outputs": [
    {
     "name": "stdout",
     "output_type": "stream",
     "text": [
      "[1, 1, 2, 3]\n"
     ]
    }
   ],
   "source": [
    "# A  program that prints out all the elements of the list that are less than 5. \n",
    "a = [1, 1, 2, 3, 5, 8, 13, 21, 34, 55, 89] \n",
    "b = []\n",
    "for item in a :\n",
    "    if item < 5:\n",
    "        b.append(item)\n",
    "print (b)"
   ]
  },
  {
   "cell_type": "code",
   "execution_count": null,
   "metadata": {},
   "outputs": [],
   "source": []
  }
 ],
 "metadata": {
  "kernelspec": {
   "display_name": "Python 3",
   "language": "python",
   "name": "python3"
  },
  "language_info": {
   "codemirror_mode": {
    "name": "ipython",
    "version": 3
   },
   "file_extension": ".py",
   "mimetype": "text/x-python",
   "name": "python",
   "nbconvert_exporter": "python",
   "pygments_lexer": "ipython3",
   "version": "3.7.4"
  }
 },
 "nbformat": 4,
 "nbformat_minor": 2
}
